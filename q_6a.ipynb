{
 "cells": [
  {
   "cell_type": "markdown",
   "metadata": {},
   "source": [
    "### This notebook is about different genres."
   ]
  },
  {
   "cell_type": "code",
   "execution_count": 1,
   "metadata": {},
   "outputs": [],
   "source": [
    "import matplotlib.pyplot as plt\n",
    "import numpy as np\n",
    "from src.utils.helpers import create_graph_from_data, get_connected_components, get_communities\n",
    "from src.utils.helpers import merge_movies_and_actors, filter_by_country, drop_nans, fix_date, filter_by_language, filter_by_genre\n",
    "from src.data import load_characters, load_movies, load_plots, load_awards, load_nominations\n"
   ]
  },
  {
   "cell_type": "code",
   "execution_count": 2,
   "metadata": {},
   "outputs": [
    {
     "data": {
      "text/plain": [
       "'{\"/m/01jfsb\": \"Thriller\", \"/m/0hn10\": \"LGBT\", \"/m/06n90\": \"Science Fiction\", \"/m/03npn\": \"Horror\", \"/m/0219x_\": \"Indie\", \"/m/09blyk\": \"Psychological thriller\", \"/m/02n4kr\": \"Mystery\", \"/m/01z4y\": \"Comedy\", \"/m/0vgkd\": \"Black comedy\"}'"
      ]
     },
     "execution_count": 2,
     "metadata": {},
     "output_type": "execute_result"
    }
   ],
   "source": [
    "movies = load_movies()\n",
    "movies.Genres[2001]"
   ]
  },
  {
   "cell_type": "code",
   "execution_count": 3,
   "metadata": {},
   "outputs": [],
   "source": [
    "actor_awards = load_awards()  \n",
    "actor_nominations = load_nominations()  \n",
    "\n",
    "actor_awards['TotalActorAwards'] = actor_awards['awards'].apply(lambda x: len(x.split(',')) if isinstance(x, str) else 0)\n",
    "actor_nominations['TotalActorNominations'] = actor_nominations['nominations'].apply(lambda x: len(x.split(',')) if isinstance(x, str) else 0)\n",
    "actor_awards = actor_awards.rename(columns={'freebase_ids': 'FreebaseActorId'})\n",
    "actor_nominations = actor_nominations.rename(columns={'freebase_ids': 'FreebaseActorId'})"
   ]
  },
  {
   "cell_type": "code",
   "execution_count": 4,
   "metadata": {},
   "outputs": [],
   "source": [
    "def get_dataset_by_genre(genre):\n",
    "    movies = load_movies()\n",
    "    characters = load_characters()\n",
    "\n",
    "\n",
    "    us_movies = filter_by_country(movies, country=\"United States of America\")\n",
    "    print(\"Number of US movies:\", us_movies.shape[0])\n",
    "\n",
    "    us_movies = drop_nans(us_movies, column=\"Revenue\")\n",
    "    us_movies = drop_nans(us_movies, column=\"ReleaseDate\")\n",
    "    us_movies = fix_date(us_movies, column=\"ReleaseDate\")\n",
    "    us_movies  = filter_by_genre(us_movies, genre=genre)\n",
    "    print(\"Number of US movies after dropping Nans:\", us_movies.shape[0])\n",
    "    us_movies = filter_by_language(us_movies, language=\"English Language\")\n",
    "\n",
    "\n",
    "\n",
    "    us_characters_movies = merge_movies_and_actors(us_movies, characters)\n",
    "    return us_characters_movies"
   ]
  },
  {
   "cell_type": "code",
   "execution_count": 5,
   "metadata": {},
   "outputs": [],
   "source": [
    "def create_graph(movies_ds):\n",
    "    G_US = create_graph_from_data(movies_ds)\n",
    "    print(f\"Number of vertices: {len(G_US.nodes)}, number of edges: {len(G_US.edges)}\")\n",
    "\n",
    "    connected_component_sizes = sorted(map(len, get_connected_components(G_US)), reverse=True)\n",
    "    print(f\"Number of components: {len(connected_component_sizes)}, sizes of top-5 components: {connected_component_sizes[:5]} \")\n",
    "\n",
    "    communities_US = get_communities(G_US)\n",
    "    community_sizes = sorted(map(len, communities_US), reverse=True)\n",
    "    print(f\"Number of communities: {len(communities_US)}, sizes of top-5 communities: {community_sizes[:5]} \")\n",
    "\n",
    "    \n",
    "    actor_metrics = (\n",
    "        movies_ds[['FreebaseActorId']]\n",
    "        .drop_duplicates()\n",
    "        .merge(actor_awards[['FreebaseActorId', 'TotalActorAwards']], how='left', on='FreebaseActorId')\n",
    "        .merge(actor_nominations[['FreebaseActorId', 'TotalActorNominations']], how='left', on='FreebaseActorId')\n",
    "    )\n",
    "\n",
    "    actor_metrics['TotalActorAwards'] = actor_metrics['TotalActorAwards'].fillna(0).astype(int)\n",
    "    actor_metrics['TotalActorNominations'] = actor_metrics['TotalActorNominations'].fillna(0).astype(int)\n",
    "    return communities_US, actor_metrics"
   ]
  },
  {
   "cell_type": "code",
   "execution_count": 6,
   "metadata": {},
   "outputs": [],
   "source": [
    "def compute_cluster_metrics_actors(communities, us_characters_movies, actor_metrics):\n",
    "    \"\"\"\n",
    "    Compute metrics for each community based on actor-level data:\n",
    "    - Total revenue\n",
    "    - Total actor awards\n",
    "    - Total actor nominations\n",
    "    - Number of actors in the community\n",
    "    \"\"\"\n",
    "    cluster_metrics = {}\n",
    "\n",
    "    for community_id, community_members in enumerate(communities):\n",
    "        # Filter the actor for community\n",
    "        community_actor_metrics = actor_metrics[actor_metrics.FreebaseActorId.isin(community_members)]\n",
    "\n",
    "        # Calculate total awards/nominations\n",
    "        total_actor_awards = community_actor_metrics['TotalActorAwards'].sum()\n",
    "        total_actor_nominations = community_actor_metrics['TotalActorNominations'].sum()\n",
    "\n",
    "        # Calculate total revenue based on movies\n",
    "        community_movie_ids = us_characters_movies[us_characters_movies.FreebaseActorId.isin(community_members)].FreebaseId.unique()\n",
    "        total_revenue = us_characters_movies[us_characters_movies.FreebaseId.isin(community_movie_ids)]['Revenue'].sum()\n",
    "        total_revenue_in_billions = total_revenue / 1_000_000_000\n",
    "\n",
    "        cluster_metrics[community_id] = {\n",
    "            \"total_revenue\": float(f\"{total_revenue_in_billions:.2f}\"),\n",
    "            \"total_actor_awards\": total_actor_awards,\n",
    "            \"total_actor_nominations\": total_actor_nominations,\n",
    "            \"num_actors\": len(community_members)\n",
    "        }\n",
    "\n",
    "    return cluster_metrics\n"
   ]
  },
  {
   "cell_type": "code",
   "execution_count": 7,
   "metadata": {},
   "outputs": [],
   "source": [
    "def filter_name_by_dict(ds, storage):\n",
    "    col = ds['MovieName'].apply(lambda x: x not in storage)\n",
    "    return ds[col]"
   ]
  },
  {
   "cell_type": "code",
   "execution_count": 8,
   "metadata": {},
   "outputs": [
    {
     "name": "stdout",
     "output_type": "stream",
     "text": [
      "Number of US movies: 34408\n",
      "Number of US movies after dropping Nans: 663\n",
      "Number of US movies: 34408\n",
      "Number of US movies after dropping Nans: 3429\n"
     ]
    }
   ],
   "source": [
    "comedie_movies = get_dataset_by_genre('Horror')\n",
    "comedie_storage = set(comedie_movies.MovieName)\n",
    "drama_movies = get_dataset_by_genre('Drama')\n",
    "drama_storage = set(drama_movies.MovieName)"
   ]
  },
  {
   "cell_type": "code",
   "execution_count": 9,
   "metadata": {},
   "outputs": [],
   "source": [
    "comedie_movies = filter_name_by_dict(comedie_movies, drama_storage)\n",
    "drama_movies = filter_name_by_dict(drama_movies, comedie_storage)"
   ]
  },
  {
   "cell_type": "code",
   "execution_count": 10,
   "metadata": {},
   "outputs": [
    {
     "name": "stdout",
     "output_type": "stream",
     "text": [
      "Number of vertices: 4965, number of edges: 45006\n",
      "Number of components: 33, sizes of top-5 components: [4685, 31, 21, 17, 16] \n",
      "Number of communities: 75, sizes of top-5 communities: [220, 206, 194, 185, 172] \n"
     ]
    }
   ],
   "source": [
    "comedie_communties, comedie_actor_metrics = create_graph(comedie_movies)\n",
    "comedie_cluster_metrics = compute_cluster_metrics_actors(comedie_communties, comedie_movies, comedie_actor_metrics)"
   ]
  },
  {
   "cell_type": "code",
   "execution_count": 11,
   "metadata": {},
   "outputs": [],
   "source": [
    "total_comedie_revenues = [metrics[\"total_revenue\"] for metrics in comedie_cluster_metrics.values()]\n",
    "total_comedie_num_actors = [metrics[\"num_actors\"] for metrics in comedie_cluster_metrics.values()]\n",
    "total_comedie_actor_awards = [metrics[\"total_actor_awards\"] for metrics in comedie_cluster_metrics.values()]"
   ]
  },
  {
   "cell_type": "code",
   "execution_count": 12,
   "metadata": {},
   "outputs": [
    {
     "name": "stdout",
     "output_type": "stream",
     "text": [
      "Number of vertices: 19580, number of edges: 319847\n",
      "Number of components: 28, sizes of top-5 components: [19359, 18, 17, 16, 14] \n",
      "Number of communities: 66, sizes of top-5 communities: [3102, 1940, 1404, 1364, 1229] \n"
     ]
    }
   ],
   "source": [
    "drama_communties, drama_actor_metrics = create_graph(drama_movies)\n",
    "drama_cluster_metrics = compute_cluster_metrics_actors(drama_communties, drama_movies, drama_actor_metrics)"
   ]
  },
  {
   "cell_type": "code",
   "execution_count": 13,
   "metadata": {},
   "outputs": [],
   "source": [
    "total_drama_revenues = [metrics[\"total_revenue\"] for metrics in drama_cluster_metrics.values()]\n",
    "total_drama_num_actors = [metrics[\"num_actors\"] for metrics in drama_cluster_metrics.values()]\n",
    "total_drama_actor_awards = [metrics[\"total_actor_awards\"] for metrics in drama_cluster_metrics.values()]"
   ]
  },
  {
   "cell_type": "code",
   "execution_count": null,
   "metadata": {},
   "outputs": [
    {
     "data": {
      "image/png": "[encoded data removed]",
      "text/plain": [
       "<Figure size 1000x600 with 1 Axes>"
      ]
     },
     "metadata": {},
     "output_type": "display_data"
    }
   ],
   "source": [
    "plt.figure(figsize=(10, 6))\n",
    "plt.scatter(total_drama_num_actors, total_drama_revenues, alpha=0.7, marker='o', label='drama')\n",
    "plt.scatter(total_comedie_num_actors, total_comedie_revenues, alpha=0.7, marker='+', label='horror')\n",
    "\n",
    "plt.title(\"Total Number of Actors vs. Total Revenue (by Cluster)\")\n",
    "plt.xlabel(\"Total Number of Actors\")\n",
    "plt.ylabel(\"Total Revenue (in billions)\")\n",
    "plt.grid(True)\n",
    "plt.legend()\n",
    "plt.show()"
   ]
  },
  {
   "cell_type": "code",
   "execution_count": null,
   "metadata": {},
   "outputs": [],
   "source": []
  },
  {
   "cell_type": "code",
   "execution_count": null,
   "metadata": {},
   "outputs": [],
   "source": []
  }
 ],
 "metadata": {
  "kernelspec": {
   "display_name": ".venv",
   "language": "python",
   "name": "python3"
  },
  "language_info": {
   "codemirror_mode": {
    "name": "ipython",
    "version": 3
   },
   "file_extension": ".py",
   "mimetype": "text/x-python",
   "name": "python",
   "nbconvert_exporter": "python",
   "pygments_lexer": "ipython3",
   "version": "3.12.6"
  }
 },
 "nbformat": 4,
 "nbformat_minor": 2
}
