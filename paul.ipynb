{
 "cells": [
  {
   "cell_type": "code",
   "execution_count": 1,
   "id": "726cbe27-0de7-4525-86a8-27129fee7ed9",
   "metadata": {},
   "outputs": [],
   "source": [
    "from src.data import *\n",
    "from src.utils.actors_utils import *\n",
    "import pandas as pd\n",
    "import matplotlib.pyplot as plt\n",
    "import ast"
   ]
  },
  {
   "cell_type": "code",
   "execution_count": 2,
   "id": "5163587c-ad44-44e5-bb31-ff2d3a60119a",
   "metadata": {},
   "outputs": [],
   "source": [
    "download_data(force_download=False)"
   ]
  },
  {
   "cell_type": "code",
   "execution_count": 3,
   "id": "b3df9144-754d-42ae-86b9-6698837e4830",
   "metadata": {},
   "outputs": [
    {
     "data": {
      "text/html": [
       "<div>\n",
       "<style scoped>\n",
       "    .dataframe tbody tr th:only-of-type {\n",
       "        vertical-align: middle;\n",
       "    }\n",
       "\n",
       "    .dataframe tbody tr th {\n",
       "        vertical-align: top;\n",
       "    }\n",
       "\n",
       "    .dataframe thead th {\n",
       "        text-align: right;\n",
       "    }\n",
       "</style>\n",
       "<table border=\"1\" class=\"dataframe\">\n",
       "  <thead>\n",
       "    <tr style=\"text-align: right;\">\n",
       "      <th></th>\n",
       "      <th>WikipediaId</th>\n",
       "      <th>FreebaseId</th>\n",
       "      <th>MovieName</th>\n",
       "      <th>ReleaseDate</th>\n",
       "      <th>Revenue</th>\n",
       "      <th>Runtime</th>\n",
       "      <th>Languages</th>\n",
       "      <th>Countries</th>\n",
       "      <th>Genres</th>\n",
       "      <th>PlotSummary</th>\n",
       "    </tr>\n",
       "  </thead>\n",
       "  <tbody>\n",
       "    <tr>\n",
       "      <th>0</th>\n",
       "      <td>975900</td>\n",
       "      <td>/m/03vyhn</td>\n",
       "      <td>Ghosts of Mars</td>\n",
       "      <td>2001-08-24</td>\n",
       "      <td>14010832.0</td>\n",
       "      <td>98.0</td>\n",
       "      <td>{\"/m/02h40lc\": \"English Language\"}</td>\n",
       "      <td>{\"/m/09c7w0\": \"United States of America\"}</td>\n",
       "      <td>{\"/m/01jfsb\": \"Thriller\", \"/m/06n90\": \"Science...</td>\n",
       "      <td>Set in the second half of the 22nd century, th...</td>\n",
       "    </tr>\n",
       "    <tr>\n",
       "      <th>1</th>\n",
       "      <td>9363483</td>\n",
       "      <td>/m/0285_cd</td>\n",
       "      <td>White Of The Eye</td>\n",
       "      <td>1987</td>\n",
       "      <td>NaN</td>\n",
       "      <td>110.0</td>\n",
       "      <td>{\"/m/02h40lc\": \"English Language\"}</td>\n",
       "      <td>{\"/m/07ssc\": \"United Kingdom\"}</td>\n",
       "      <td>{\"/m/01jfsb\": \"Thriller\", \"/m/0glj9q\": \"Erotic...</td>\n",
       "      <td>A series of murders of rich young women throug...</td>\n",
       "    </tr>\n",
       "    <tr>\n",
       "      <th>2</th>\n",
       "      <td>261236</td>\n",
       "      <td>/m/01mrr1</td>\n",
       "      <td>A Woman in Flames</td>\n",
       "      <td>1983</td>\n",
       "      <td>NaN</td>\n",
       "      <td>106.0</td>\n",
       "      <td>{\"/m/04306rv\": \"German Language\"}</td>\n",
       "      <td>{\"/m/0345h\": \"Germany\"}</td>\n",
       "      <td>{\"/m/07s9rl0\": \"Drama\"}</td>\n",
       "      <td>Eva, an upper class housewife, becomes frustra...</td>\n",
       "    </tr>\n",
       "    <tr>\n",
       "      <th>3</th>\n",
       "      <td>18998739</td>\n",
       "      <td>/m/04jcqvw</td>\n",
       "      <td>The Sorcerer's Apprentice</td>\n",
       "      <td>2002</td>\n",
       "      <td>NaN</td>\n",
       "      <td>86.0</td>\n",
       "      <td>{\"/m/02h40lc\": \"English Language\"}</td>\n",
       "      <td>{\"/m/0hzlz\": \"South Africa\"}</td>\n",
       "      <td>{\"/m/0hqxf\": \"Family Film\", \"/m/01hmnh\": \"Fant...</td>\n",
       "      <td>Every hundred years, the evil Morgana  returns...</td>\n",
       "    </tr>\n",
       "    <tr>\n",
       "      <th>4</th>\n",
       "      <td>6631279</td>\n",
       "      <td>/m/0gffwj</td>\n",
       "      <td>Little city</td>\n",
       "      <td>1997-04-04</td>\n",
       "      <td>NaN</td>\n",
       "      <td>93.0</td>\n",
       "      <td>{\"/m/02h40lc\": \"English Language\"}</td>\n",
       "      <td>{\"/m/09c7w0\": \"United States of America\"}</td>\n",
       "      <td>{\"/m/06cvj\": \"Romantic comedy\", \"/m/0hj3n0w\": ...</td>\n",
       "      <td>Adam, a San Francisco-based artist who works a...</td>\n",
       "    </tr>\n",
       "  </tbody>\n",
       "</table>\n",
       "</div>"
      ],
      "text/plain": [
       "   WikipediaId  FreebaseId                  MovieName ReleaseDate     Revenue  \\\n",
       "0       975900   /m/03vyhn             Ghosts of Mars  2001-08-24  14010832.0   \n",
       "1      9363483  /m/0285_cd           White Of The Eye        1987         NaN   \n",
       "2       261236   /m/01mrr1          A Woman in Flames        1983         NaN   \n",
       "3     18998739  /m/04jcqvw  The Sorcerer's Apprentice        2002         NaN   \n",
       "4      6631279   /m/0gffwj                Little city  1997-04-04         NaN   \n",
       "\n",
       "   Runtime                           Languages  \\\n",
       "0     98.0  {\"/m/02h40lc\": \"English Language\"}   \n",
       "1    110.0  {\"/m/02h40lc\": \"English Language\"}   \n",
       "2    106.0   {\"/m/04306rv\": \"German Language\"}   \n",
       "3     86.0  {\"/m/02h40lc\": \"English Language\"}   \n",
       "4     93.0  {\"/m/02h40lc\": \"English Language\"}   \n",
       "\n",
       "                                   Countries  \\\n",
       "0  {\"/m/09c7w0\": \"United States of America\"}   \n",
       "1             {\"/m/07ssc\": \"United Kingdom\"}   \n",
       "2                    {\"/m/0345h\": \"Germany\"}   \n",
       "3               {\"/m/0hzlz\": \"South Africa\"}   \n",
       "4  {\"/m/09c7w0\": \"United States of America\"}   \n",
       "\n",
       "                                              Genres  \\\n",
       "0  {\"/m/01jfsb\": \"Thriller\", \"/m/06n90\": \"Science...   \n",
       "1  {\"/m/01jfsb\": \"Thriller\", \"/m/0glj9q\": \"Erotic...   \n",
       "2                            {\"/m/07s9rl0\": \"Drama\"}   \n",
       "3  {\"/m/0hqxf\": \"Family Film\", \"/m/01hmnh\": \"Fant...   \n",
       "4  {\"/m/06cvj\": \"Romantic comedy\", \"/m/0hj3n0w\": ...   \n",
       "\n",
       "                                         PlotSummary  \n",
       "0  Set in the second half of the 22nd century, th...  \n",
       "1  A series of murders of rich young women throug...  \n",
       "2  Eva, an upper class housewife, becomes frustra...  \n",
       "3  Every hundred years, the evil Morgana  returns...  \n",
       "4  Adam, a San Francisco-based artist who works a...  "
      ]
     },
     "execution_count": 3,
     "metadata": {},
     "output_type": "execute_result"
    }
   ],
   "source": [
    "movies = load_movies_and_plots()\n",
    "movies.head()"
   ]
  },
  {
   "cell_type": "code",
   "execution_count": 4,
   "id": "d87ca83e-4165-415b-ada0-eb449987df71",
   "metadata": {},
   "outputs": [
    {
     "data": {
      "image/png": "[encoded data removed]",
      "text/plain": [
       "<Figure size 640x480 with 1 Axes>"
      ]
     },
     "metadata": {},
     "output_type": "display_data"
    }
   ],
   "source": [
    "plt.hist(movies[\"Runtime\"], bins=50, range=(0, 250))\n",
    "plt.xlabel(\"Runtime\")\n",
    "plt.ylabel(\"Count\")\n",
    "plt.title(\"Movies runtime distribution\")\n",
    "plt.show()"
   ]
  },
  {
   "cell_type": "code",
   "execution_count": 5,
   "id": "2bc13680-cfa0-408f-ba29-543c790440e6",
   "metadata": {},
   "outputs": [
    {
     "data": {
      "image/png": "[encoded data removed]",
      "text/plain": [
       "<Figure size 640x480 with 1 Axes>"
      ]
     },
     "metadata": {},
     "output_type": "display_data"
    }
   ],
   "source": [
    "array_50 = plt.hist(movies[\"Revenue\"], bins=100, cumulative=-1, log=True)\n",
    "plt.title(\"Complementary cumulative distribution of movie revenues\")\n",
    "plt.xlabel(\"Revenues\")\n",
    "plt.ylabel(\"Complementary cumulative count\")\n",
    "plt.show()"
   ]
  },
  {
   "cell_type": "code",
   "execution_count": 6,
   "id": "20a01a85-2dbf-447a-ada1-44eafcf65a21",
   "metadata": {},
   "outputs": [
    {
     "data": {
      "text/html": [
       "<div>\n",
       "<style scoped>\n",
       "    .dataframe tbody tr th:only-of-type {\n",
       "        vertical-align: middle;\n",
       "    }\n",
       "\n",
       "    .dataframe tbody tr th {\n",
       "        vertical-align: top;\n",
       "    }\n",
       "\n",
       "    .dataframe thead th {\n",
       "        text-align: right;\n",
       "    }\n",
       "</style>\n",
       "<table border=\"1\" class=\"dataframe\">\n",
       "  <thead>\n",
       "    <tr style=\"text-align: right;\">\n",
       "      <th></th>\n",
       "      <th>WikipediaId</th>\n",
       "      <th>FreebaseId</th>\n",
       "      <th>ReleaseDate</th>\n",
       "      <th>CharacterName</th>\n",
       "      <th>ActorDateOfBirth</th>\n",
       "      <th>ActorGender</th>\n",
       "      <th>ActorHeight</th>\n",
       "      <th>ActorEthnicity</th>\n",
       "      <th>ActorName</th>\n",
       "      <th>ActorAgeAtRelease</th>\n",
       "      <th>FreebaseCharacterActorMapId</th>\n",
       "      <th>FreebaseCharId</th>\n",
       "      <th>FreebaseActorId</th>\n",
       "    </tr>\n",
       "  </thead>\n",
       "  <tbody>\n",
       "    <tr>\n",
       "      <th>0</th>\n",
       "      <td>975900</td>\n",
       "      <td>/m/03vyhn</td>\n",
       "      <td>2001-08-24</td>\n",
       "      <td>Akooshay</td>\n",
       "      <td>1958-08-26</td>\n",
       "      <td>F</td>\n",
       "      <td>1.620</td>\n",
       "      <td>NaN</td>\n",
       "      <td>Wanda De Jesus</td>\n",
       "      <td>42.0</td>\n",
       "      <td>/m/0bgchxw</td>\n",
       "      <td>/m/0bgcj3x</td>\n",
       "      <td>/m/03wcfv7</td>\n",
       "    </tr>\n",
       "    <tr>\n",
       "      <th>1</th>\n",
       "      <td>975900</td>\n",
       "      <td>/m/03vyhn</td>\n",
       "      <td>2001-08-24</td>\n",
       "      <td>Lieutenant Melanie Ballard</td>\n",
       "      <td>1974-08-15</td>\n",
       "      <td>F</td>\n",
       "      <td>1.780</td>\n",
       "      <td>/m/044038p</td>\n",
       "      <td>Natasha Henstridge</td>\n",
       "      <td>27.0</td>\n",
       "      <td>/m/0jys3m</td>\n",
       "      <td>/m/0bgchn4</td>\n",
       "      <td>/m/0346l4</td>\n",
       "    </tr>\n",
       "    <tr>\n",
       "      <th>2</th>\n",
       "      <td>975900</td>\n",
       "      <td>/m/03vyhn</td>\n",
       "      <td>2001-08-24</td>\n",
       "      <td>Desolation Williams</td>\n",
       "      <td>1969-06-15</td>\n",
       "      <td>M</td>\n",
       "      <td>1.727</td>\n",
       "      <td>/m/0x67</td>\n",
       "      <td>Ice Cube</td>\n",
       "      <td>32.0</td>\n",
       "      <td>/m/0jys3g</td>\n",
       "      <td>/m/0bgchn_</td>\n",
       "      <td>/m/01vw26l</td>\n",
       "    </tr>\n",
       "    <tr>\n",
       "      <th>3</th>\n",
       "      <td>975900</td>\n",
       "      <td>/m/03vyhn</td>\n",
       "      <td>2001-08-24</td>\n",
       "      <td>Sgt Jericho Butler</td>\n",
       "      <td>1967-09-12</td>\n",
       "      <td>M</td>\n",
       "      <td>1.750</td>\n",
       "      <td>NaN</td>\n",
       "      <td>Jason Statham</td>\n",
       "      <td>33.0</td>\n",
       "      <td>/m/02vchl6</td>\n",
       "      <td>/m/0bgchnq</td>\n",
       "      <td>/m/034hyc</td>\n",
       "    </tr>\n",
       "    <tr>\n",
       "      <th>4</th>\n",
       "      <td>975900</td>\n",
       "      <td>/m/03vyhn</td>\n",
       "      <td>2001-08-24</td>\n",
       "      <td>Bashira Kincaid</td>\n",
       "      <td>1977-09-25</td>\n",
       "      <td>F</td>\n",
       "      <td>1.650</td>\n",
       "      <td>NaN</td>\n",
       "      <td>Clea DuVall</td>\n",
       "      <td>23.0</td>\n",
       "      <td>/m/02vbb3r</td>\n",
       "      <td>/m/0bgchp9</td>\n",
       "      <td>/m/01y9xg</td>\n",
       "    </tr>\n",
       "  </tbody>\n",
       "</table>\n",
       "</div>"
      ],
      "text/plain": [
       "   WikipediaId FreebaseId ReleaseDate               CharacterName  \\\n",
       "0       975900  /m/03vyhn  2001-08-24                    Akooshay   \n",
       "1       975900  /m/03vyhn  2001-08-24  Lieutenant Melanie Ballard   \n",
       "2       975900  /m/03vyhn  2001-08-24         Desolation Williams   \n",
       "3       975900  /m/03vyhn  2001-08-24          Sgt Jericho Butler   \n",
       "4       975900  /m/03vyhn  2001-08-24             Bashira Kincaid   \n",
       "\n",
       "  ActorDateOfBirth ActorGender  ActorHeight ActorEthnicity  \\\n",
       "0       1958-08-26           F        1.620            NaN   \n",
       "1       1974-08-15           F        1.780     /m/044038p   \n",
       "2       1969-06-15           M        1.727        /m/0x67   \n",
       "3       1967-09-12           M        1.750            NaN   \n",
       "4       1977-09-25           F        1.650            NaN   \n",
       "\n",
       "            ActorName  ActorAgeAtRelease FreebaseCharacterActorMapId  \\\n",
       "0      Wanda De Jesus               42.0                  /m/0bgchxw   \n",
       "1  Natasha Henstridge               27.0                   /m/0jys3m   \n",
       "2            Ice Cube               32.0                   /m/0jys3g   \n",
       "3       Jason Statham               33.0                  /m/02vchl6   \n",
       "4         Clea DuVall               23.0                  /m/02vbb3r   \n",
       "\n",
       "  FreebaseCharId FreebaseActorId  \n",
       "0     /m/0bgcj3x      /m/03wcfv7  \n",
       "1     /m/0bgchn4       /m/0346l4  \n",
       "2     /m/0bgchn_      /m/01vw26l  \n",
       "3     /m/0bgchnq       /m/034hyc  \n",
       "4     /m/0bgchp9       /m/01y9xg  "
      ]
     },
     "execution_count": 6,
     "metadata": {},
     "output_type": "execute_result"
    }
   ],
   "source": [
    "characters = load_characters()\n",
    "characters.head()"
   ]
  },
  {
   "cell_type": "code",
   "execution_count": 7,
   "id": "60f5b35c-6f8e-49ce-b671-feb71131bbf6",
   "metadata": {},
   "outputs": [
    {
     "data": {
      "image/png": "[encoded data removed]",
      "text/plain": [
       "<Figure size 640x480 with 1 Axes>"
      ]
     },
     "metadata": {},
     "output_type": "display_data"
    }
   ],
   "source": [
    "plt.hist(characters[\"ActorAgeAtRelease\"], bins=120, range=(0, 120))\n",
    "plt.title(\"Actor age at release distribution\")\n",
    "plt.xlabel(\"Actor age at release\")\n",
    "plt.ylabel(\"Count\")\n",
    "plt.show()"
   ]
  },
  {
   "cell_type": "code",
   "execution_count": 8,
   "id": "388ce093-9e1a-4ccb-b5c7-54e2a051db3a",
   "metadata": {},
   "outputs": [],
   "source": [
    "actor_id = \"/m/01y9xg\""
   ]
  },
  {
   "cell_type": "code",
   "execution_count": 9,
   "id": "3f511712-2bd8-46b5-bc75-b4d18820beb0",
   "metadata": {},
   "outputs": [
    {
     "data": {
      "text/html": [
       "<div>\n",
       "<style scoped>\n",
       "    .dataframe tbody tr th:only-of-type {\n",
       "        vertical-align: middle;\n",
       "    }\n",
       "\n",
       "    .dataframe tbody tr th {\n",
       "        vertical-align: top;\n",
       "    }\n",
       "\n",
       "    .dataframe thead th {\n",
       "        text-align: right;\n",
       "    }\n",
       "</style>\n",
       "<table border=\"1\" class=\"dataframe\">\n",
       "  <thead>\n",
       "    <tr style=\"text-align: right;\">\n",
       "      <th></th>\n",
       "      <th>WikipediaId</th>\n",
       "      <th>FreebaseId</th>\n",
       "      <th>MovieName</th>\n",
       "      <th>ReleaseDate</th>\n",
       "      <th>Revenue</th>\n",
       "      <th>Runtime</th>\n",
       "      <th>Languages</th>\n",
       "      <th>Countries</th>\n",
       "      <th>Genres</th>\n",
       "    </tr>\n",
       "  </thead>\n",
       "  <tbody>\n",
       "    <tr>\n",
       "      <th>0</th>\n",
       "      <td>975900</td>\n",
       "      <td>/m/03vyhn</td>\n",
       "      <td>Ghosts of Mars</td>\n",
       "      <td>2001-08-24</td>\n",
       "      <td>14010832.0</td>\n",
       "      <td>98.0</td>\n",
       "      <td>{\"/m/02h40lc\": \"English Language\"}</td>\n",
       "      <td>{\"/m/09c7w0\": \"United States of America\"}</td>\n",
       "      <td>{\"/m/01jfsb\": \"Thriller\", \"/m/06n90\": \"Science...</td>\n",
       "    </tr>\n",
       "    <tr>\n",
       "      <th>790</th>\n",
       "      <td>7844547</td>\n",
       "      <td>/m/026f_k5</td>\n",
       "      <td>Sleeping Beauties</td>\n",
       "      <td>1999-06-10</td>\n",
       "      <td>NaN</td>\n",
       "      <td>13.0</td>\n",
       "      <td>{\"/m/02h40lc\": \"English Language\"}</td>\n",
       "      <td>{\"/m/09c7w0\": \"United States of America\"}</td>\n",
       "      <td>{\"/m/0hn10\": \"LGBT\", \"/m/02hmvc\": \"Short Film\"...</td>\n",
       "    </tr>\n",
       "    <tr>\n",
       "      <th>6671</th>\n",
       "      <td>468326</td>\n",
       "      <td>/m/02d478</td>\n",
       "      <td>21 Grams</td>\n",
       "      <td>2003-09-05</td>\n",
       "      <td>60427839.0</td>\n",
       "      <td>124.0</td>\n",
       "      <td>{\"/m/02h40lc\": \"English Language\"}</td>\n",
       "      <td>{\"/m/09c7w0\": \"United States of America\"}</td>\n",
       "      <td>{\"/m/01jfsb\": \"Thriller\", \"/m/0hj3n0w\": \"Ensem...</td>\n",
       "    </tr>\n",
       "  </tbody>\n",
       "</table>\n",
       "</div>"
      ],
      "text/plain": [
       "      WikipediaId  FreebaseId          MovieName ReleaseDate     Revenue  \\\n",
       "0          975900   /m/03vyhn     Ghosts of Mars  2001-08-24  14010832.0   \n",
       "790       7844547  /m/026f_k5  Sleeping Beauties  1999-06-10         NaN   \n",
       "6671       468326   /m/02d478           21 Grams  2003-09-05  60427839.0   \n",
       "\n",
       "      Runtime                           Languages  \\\n",
       "0        98.0  {\"/m/02h40lc\": \"English Language\"}   \n",
       "790      13.0  {\"/m/02h40lc\": \"English Language\"}   \n",
       "6671    124.0  {\"/m/02h40lc\": \"English Language\"}   \n",
       "\n",
       "                                      Countries  \\\n",
       "0     {\"/m/09c7w0\": \"United States of America\"}   \n",
       "790   {\"/m/09c7w0\": \"United States of America\"}   \n",
       "6671  {\"/m/09c7w0\": \"United States of America\"}   \n",
       "\n",
       "                                                 Genres  \n",
       "0     {\"/m/01jfsb\": \"Thriller\", \"/m/06n90\": \"Science...  \n",
       "790   {\"/m/0hn10\": \"LGBT\", \"/m/02hmvc\": \"Short Film\"...  \n",
       "6671  {\"/m/01jfsb\": \"Thriller\", \"/m/0hj3n0w\": \"Ensem...  "
      ]
     },
     "execution_count": 9,
     "metadata": {},
     "output_type": "execute_result"
    }
   ],
   "source": [
    "get_actor_movies(actor_id).head(3)"
   ]
  },
  {
   "cell_type": "code",
   "execution_count": 10,
   "id": "5e4daa76-14f2-4816-a24c-de8dda2d1b64",
   "metadata": {},
   "outputs": [
    {
     "data": {
      "text/plain": [
       "'Clea DuVall'"
      ]
     },
     "execution_count": 10,
     "metadata": {},
     "output_type": "execute_result"
    }
   ],
   "source": [
    "get_actor_name(actor_id)"
   ]
  },
  {
   "cell_type": "code",
   "execution_count": 11,
   "id": "a316a218-2561-4464-a8ba-f22bfd1e0152",
   "metadata": {},
   "outputs": [
    {
     "data": {
      "text/plain": [
       "['Ghosts of Mars',\n",
       " 'Sleeping Beauties',\n",
       " '21 Grams',\n",
       " \"The Astronaut's Wife\",\n",
       " 'How to Make the Cruelest Month',\n",
       " 'The Slaughter Rule',\n",
       " 'How to Make a Monster',\n",
       " 'The Watch',\n",
       " 'Itty Bitty Titty Committee',\n",
       " 'The Killing Room',\n",
       " 'Passengers',\n",
       " 'Identity',\n",
       " 'Wildflowers',\n",
       " \"She's All That\",\n",
       " 'Two Weeks',\n",
       " 'Argo',\n",
       " 'A Slipping-Down Life',\n",
       " 'Thirteen Conversations About One Thing',\n",
       " 'Girl, Interrupted',\n",
       " 'The Grudge',\n",
       " 'The Laramie Project',\n",
       " \"But I'm a Cheerleader\",\n",
       " 'Committed',\n",
       " \"Can't Hardly Wait\",\n",
       " 'Zodiac',\n",
       " 'On the Edge of Innocence',\n",
       " 'Ten Inch Hero',\n",
       " 'Conviction',\n",
       " 'Anamorph',\n",
       " 'Helter Skelter',\n",
       " 'The Faculty']"
      ]
     },
     "execution_count": 11,
     "metadata": {},
     "output_type": "execute_result"
    }
   ],
   "source": [
    "get_actor_movie_names(actor_id)"
   ]
  },
  {
   "cell_type": "code",
   "execution_count": 12,
   "id": "206ea160-ea55-419f-bbfb-63d5f6389a6f",
   "metadata": {},
   "outputs": [
    {
     "data": {
      "text/plain": [
       "[('Drama', 19), ('Thriller', 11), ('Indie', 10), ('Comedy', 10)]"
      ]
     },
     "execution_count": 12,
     "metadata": {},
     "output_type": "execute_result"
    }
   ],
   "source": [
    "actor_prefered_genres(actor_id, 4)"
   ]
  },
  {
   "cell_type": "code",
   "execution_count": 13,
   "id": "2b0fd54d-828f-42c6-9a60-f1c7de5ec7a0",
   "metadata": {},
   "outputs": [
    {
     "name": "stdout",
     "output_type": "stream",
     "text": [
      "Name: Clea DuVall\n",
      "  * Played in 31 movies.\n",
      "  * Favourite genre: Drama (19 movies).\n",
      "  * Total movie revenues:      673,403,797$.\n",
      "  * Average movie revenue:      44,893,586$.\n"
     ]
    }
   ],
   "source": [
    "print_actor_stats(actor_id)"
   ]
  },
  {
   "cell_type": "code",
   "execution_count": null,
   "id": "cf68aafb-20bf-4353-86bf-0170a8bb3038",
   "metadata": {},
   "outputs": [],
   "source": []
  }
 ],
 "metadata": {
  "kernelspec": {
   "display_name": "Python 3 (ipykernel)",
   "language": "python",
   "name": "python3"
  },
  "language_info": {
   "codemirror_mode": {
    "name": "ipython",
    "version": 3
   },
   "file_extension": ".py",
   "mimetype": "text/x-python",
   "name": "python",
   "nbconvert_exporter": "python",
   "pygments_lexer": "ipython3",
   "version": "3.11.9"
  }
 },
 "nbformat": 4,
 "nbformat_minor": 5
}
